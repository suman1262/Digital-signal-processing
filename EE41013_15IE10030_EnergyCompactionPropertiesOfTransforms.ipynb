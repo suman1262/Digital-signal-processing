{
 "cells": [
  {
   "cell_type": "code",
   "execution_count": 30,
   "metadata": {
    "collapsed": true
   },
   "outputs": [],
   "source": [
    "import numpy as np\n",
    "from __future__ import division\n",
    "import matplotlib.pyplot as plt\n",
    "import sys\n",
    "import cmath\n",
    "import math"
   ]
  },
  {
   "cell_type": "code",
   "execution_count": 31,
   "metadata": {
    "collapsed": true
   },
   "outputs": [],
   "source": [
    "def dft(N):#returns dft matrix\n",
    "    dft_matrix=np.empty([N,N],dtype=np.complex_)\n",
    "    dft_matrix=np.matrix(dft_matrix)\n",
    "    index=np.arange(0,N,1)\n",
    "    for k in index:\n",
    "        for n in index:\n",
    "            dft_matrix[k,n]=np.exp(-(1j)*2*np.pi*k*n/N)\n",
    "        \n",
    "    return dft_matrix"
   ]
  },
  {
   "cell_type": "code",
   "execution_count": 32,
   "metadata": {
    "collapsed": true
   },
   "outputs": [],
   "source": [
    "def idft(N):#returns dft matrix\n",
    "    idft_matrix=np.empty([N,N],dtype=np.complex_)\n",
    "    idft_matrix=np.matrix(idft_matrix)\n",
    "    index=np.arange(0,N,1)\n",
    "    for k in index:\n",
    "        for n in index:\n",
    "            idft_matrix[k,n]=np.exp((1j)*2*np.pi*k*n/N)\n",
    "    idft_matrix=idft_matrix/N        \n",
    "    return idft_matrix"
   ]
  },
  {
   "cell_type": "code",
   "execution_count": 33,
   "metadata": {
    "collapsed": true
   },
   "outputs": [],
   "source": [
    "def dcft(N):#returns dcft matrix\n",
    "    dcft_matrix=np.empty([N,N],dtype=np.complex_)\n",
    "    dcft_matrix=np.matrix(dcft_matrix)\n",
    "    index=np.arange(0,N,1)\n",
    "    for k in index:\n",
    "        for n in index:\n",
    "            dcft_matrix[k,n]=2*np.cos(np.pi*k*(2*n+1)/(2*N))\n",
    "        \n",
    "    return dcft_matrix"
   ]
  },
  {
   "cell_type": "code",
   "execution_count": 34,
   "metadata": {
    "collapsed": true
   },
   "outputs": [],
   "source": [
    "def idcft(N):#returns dcft matrix\n",
    "    idcft_matrix=np.empty([N,N],dtype=np.complex_)\n",
    "    idcft_matrix=np.matrix(idcft_matrix)\n",
    "    index=np.arange(0,N,1)\n",
    "    for k in index: \n",
    "        for n in index:\n",
    "            if n==0:\n",
    "                alpha=0.5\n",
    "            else:\n",
    "                alpha=1\n",
    "            idcft_matrix[k,n]=alpha*np.cos(np.pi*n*(2*k+1)/(2*N))\n",
    "    idcft_matrix=idcft_matrix/N\n",
    "    return idcft_matrix"
   ]
  },
  {
   "cell_type": "code",
   "execution_count": 35,
   "metadata": {
    "collapsed": true
   },
   "outputs": [],
   "source": [
    "def haar(N):\n",
    "    if N==2:\n",
    "        h2=np.matrix([[1,1],[1,-1]])/math.sqrt(2)\n",
    "        return h2\n",
    "    v=np.log2(N)-1\n",
    "    hn2=haar(N/2)\n",
    "    result1=np.concatenate((hn2,hn2),axis=1)\n",
    "    matrix1=(pow(2,v/2))*np.identity(int(N/2))\n",
    "    result2=np.concatenate((matrix1,-matrix1),axis=1)\n",
    "    return np.concatenate((result1,result2),axis=0)\n",
    "    "
   ]
  },
  {
   "cell_type": "code",
   "execution_count": 36,
   "metadata": {
    "collapsed": true
   },
   "outputs": [],
   "source": [
    "def ihaar(N):\n",
    "    haar_matrix=haar(N)\n",
    "    return np.transpose(haar_matrix)/N"
   ]
  },
  {
   "cell_type": "code",
   "execution_count": 37,
   "metadata": {
    "collapsed": true
   },
   "outputs": [],
   "source": [
    "def general_transform(transform_type,x):\n",
    "    N=len(x)\n",
    "    #print(N)\n",
    "    if transform_type==0:\n",
    "        gtm=dft(N)\n",
    "    if transform_type==1:\n",
    "        gtm=dcft(N)\n",
    "    if transform_type==2:\n",
    "        gtm=haar(N)\n",
    "    return gtm*x    \n",
    "        \n",
    "        \n"
   ]
  },
  {
   "cell_type": "code",
   "execution_count": 38,
   "metadata": {
    "collapsed": true
   },
   "outputs": [],
   "source": [
    "def general_inverse_transform(transform_type,X):\n",
    "    N=len(X)\n",
    "    #print(N)\n",
    "    if transform_type==0:\n",
    "        igtm=idft(N)\n",
    "    if transform_type==1:\n",
    "        igtm=idcft(N)\n",
    "    if transform_type==2:\n",
    "        igtm=ihaar(N)\n",
    "    return igtm*X "
   ]
  },
  {
   "cell_type": "code",
   "execution_count": 39,
   "metadata": {
    "collapsed": true
   },
   "outputs": [],
   "source": [
    "def dot_prod(x,y,N):\n",
    "    err=x-y\n",
    "    errt=np.transpose(err)\n",
    "    errt=np.conjugate(errt)\n",
    "    \n",
    "    return errt*err/N\n"
   ]
  },
  {
   "cell_type": "code",
   "execution_count": 40,
   "metadata": {
    "collapsed": true
   },
   "outputs": [],
   "source": [
    "def xmdft(X,L,N):\n",
    "    for i in range(int((N+1-L)/2),int((N-1+L)/2)+1,1):\n",
    "        X[i]=0\n",
    "    return X    "
   ]
  },
  {
   "cell_type": "code",
   "execution_count": 41,
   "metadata": {
    "collapsed": true
   },
   "outputs": [],
   "source": [
    "def  xdcthaar(X,L,N):\n",
    "    for i in range(N-L,N):\n",
    "        X[i]=0\n",
    "    return X    "
   ]
  },
  {
   "cell_type": "code",
   "execution_count": 42,
   "metadata": {
    "collapsed": true
   },
   "outputs": [],
   "source": [
    "def mse(transform_type,x,X,N):\n",
    "    err=[]\n",
    "    for l in range(0,N,1):\n",
    "        if transform_type==0:\n",
    "            Xm=xmdft(X,l,N)\n",
    "            xm=general_inverse_transform(0,Xm)\n",
    "        if transform_type==1:\n",
    "            Xm=xdcthaar(X,l,N)\n",
    "            xm=general_inverse_transform(1,Xm)\n",
    "        if transform_type==2:\n",
    "            Xm=xdcthaar(X,l,N)\n",
    "            xm=general_inverse_transform(2,Xm)\n",
    "        err=np.append(err,dot_prod(x,xm,N))\n",
    "    return err "
   ]
  },
  {
   "cell_type": "code",
   "execution_count": 43,
   "metadata": {
    "scrolled": false
   },
   "outputs": [
    {
     "name": "stdout",
     "output_type": "stream",
     "text": [
      "[[  3.18135054e+01+30.36071458j]\n",
      " [  1.87464616e+00 -2.05678995j]\n",
      " [ -1.12632495e+00 +3.01383058j]\n",
      " [  6.97021436e-02 +3.03446823j]\n",
      " [  2.79816610e-02 -1.78661303j]\n",
      " [ -3.24530578e+00 +4.29144267j]\n",
      " [ -1.82962673e+00 -1.40253462j]\n",
      " [  3.45227447e+00 +0.08367556j]\n",
      " [ -1.25515230e-02 +1.55999898j]\n",
      " [  3.32759422e+00 -0.53517895j]\n",
      " [ -1.62323830e+00 +2.09062994j]\n",
      " [  2.10310845e-01 +1.49943953j]\n",
      " [  2.43894220e+00 -2.73487764j]\n",
      " [  3.56628389e+00 +1.21630117j]\n",
      " [ -1.71283148e+00 +1.55239042j]\n",
      " [ -2.64630989e+00 -2.2070825j ]\n",
      " [  3.59030468e+00 +2.15776696j]\n",
      " [  1.07896431e+00 +3.80653571j]\n",
      " [ -1.89127388e+00 -0.43756781j]\n",
      " [ -1.86535380e+00 -1.30447309j]\n",
      " [  2.01001485e-01 +1.52337991j]\n",
      " [  3.37007341e+00 -0.54363869j]\n",
      " [ -5.68180432e-01 +5.79923018j]\n",
      " [  2.45087399e+00 -0.62286527j]\n",
      " [  3.00057382e+00 -6.60392137j]\n",
      " [ -2.09710591e+00 +0.28629991j]\n",
      " [  6.31503465e+00 +1.70258572j]\n",
      " [ -6.81371595e-01 +4.74741552j]\n",
      " [ -4.08569941e-01 -1.24015218j]\n",
      " [ -1.24072344e+00 -0.67779446j]\n",
      " [  3.02496126e+00 +0.78136969j]\n",
      " [  4.04619953e-01 +2.3202951j ]\n",
      " [  2.25102587e+00 -0.96622631j]\n",
      " [  1.18442070e+00 +2.82638086j]\n",
      " [  9.62271967e-01 +4.17450235j]\n",
      " [  1.96154656e+00 +0.72507544j]\n",
      " [  7.60661706e-01 -0.21105592j]\n",
      " [ -5.45908414e-01 +1.58579989j]\n",
      " [  1.99376875e-01 +2.26192415j]\n",
      " [ -2.15059043e-02 +1.23476222j]\n",
      " [ -1.03096649e+00 +1.30438367j]\n",
      " [ -1.26203064e+00 +1.0304323j ]\n",
      " [ -1.97438379e-01 -1.16691787j]\n",
      " [  8.65136474e-01 -0.86477042j]\n",
      " [  4.41443989e+00 +1.8170308j ]\n",
      " [  2.11288548e+00 +1.01922492j]\n",
      " [  9.55814982e-01 -0.78115888j]\n",
      " [  1.73005193e+00 -2.02623782j]\n",
      " [ -8.12144349e-01 -2.36518602j]\n",
      " [  6.13917248e-01 -0.28828349j]\n",
      " [  3.06398781e+00 -1.02128091j]\n",
      " [  2.09093811e-01 +2.9187677j ]\n",
      " [ -2.30157040e+00 -2.91265837j]\n",
      " [ -4.01765077e+00 +0.59817043j]\n",
      " [  4.03675218e+00 +0.19363328j]\n",
      " [ -1.72766758e+00 +1.52178165j]\n",
      " [ -2.51524489e-01 -5.25906013j]\n",
      " [  7.78019925e-01 +2.23203046j]\n",
      " [  2.52572815e+00 -2.88851828j]\n",
      " [ -3.44438408e-01 +0.3370844j ]\n",
      " [  1.32750169e+00 +3.16183788j]\n",
      " [ -6.51243916e-01 -0.47332027j]\n",
      " [ -3.30217668e+00 +3.23643239j]\n",
      " [  5.55750807e-01 -4.6627669j ]]\n",
      "(64,)\n",
      "[[  6.36270107e+01+60.72142917j]\n",
      " [ -2.31061708e+00 +2.31003326j]\n",
      " [  2.55533867e+00 -6.77617798j]\n",
      " [  8.10722531e-01 +2.06109416j]\n",
      " [ -4.42899598e+00 +6.00689549j]\n",
      " [ -1.10798173e+00 -0.86363453j]\n",
      " [ -6.05479909e-02 +2.42764265j]\n",
      " [  4.93375736e+00 -1.70002329j]\n",
      " [  3.64043234e-01 +1.60232407j]\n",
      " [ -5.22206792e+00 -0.72441659j]\n",
      " [ -2.52133337e+00 +5.1946692j ]\n",
      " [  2.20995519e+00 -0.76087291j]\n",
      " [  1.09748582e+00 -2.84198882j]\n",
      " [  3.05985733e+00 +6.9060778j ]\n",
      " [  3.25924961e+00 +1.27941004j]\n",
      " [ -4.67226061e+00 +0.18548969j]\n",
      " [  2.36556652e+00 -3.50893788j]\n",
      " [  5.71006990e+00 +4.6073196j ]\n",
      " [  5.66852575e-01 -1.26952466j]\n",
      " [ -4.42282889e-01 -3.3737041j ]\n",
      " [  3.02276725e+00 +4.68264135j]\n",
      " [ -1.98712117e-01 +5.79581119j]\n",
      " [ -2.80231946e+00 -0.3744266j ]\n",
      " [  3.31514162e+00 -0.86232368j]\n",
      " [  2.12990163e-01 -7.32944227j]\n",
      " [  3.63072760e+00 +1.75243322j]\n",
      " [  2.01825367e+00 +1.32144267j]\n",
      " [ -1.76417572e+00 -5.79758523j]\n",
      " [  2.67717777e+00 +3.44093529j]\n",
      " [  1.01856118e+00 -0.61048221j]\n",
      " [ -2.79449027e+00 +0.34049049j]\n",
      " [  1.25439944e-01 +4.97320639j]\n",
      " [  5.16266674e+00 -3.25966899j]\n",
      " [  1.06154053e+00 -0.43120398j]\n",
      " [  6.20822012e+00 +1.67799909j]\n",
      " [  2.86095279e+00 -1.8739684j ]\n",
      " [ -3.27849354e-01 +1.42767742j]\n",
      " [  4.34359218e+00 +1.22581434j]\n",
      " [ -1.71895730e+00 +3.02542962j]\n",
      " [  3.72857961e+00 +3.92970667j]\n",
      " [  2.32004005e+00 +5.35917876j]\n",
      " [  5.01010718e-01 +2.60393547j]\n",
      " [  2.45277690e+00 -2.87262306j]\n",
      " [ -3.43475109e+00 +4.29393168j]\n",
      " [  5.78268389e+00 +2.51062221j]\n",
      " [  4.70257644e+00 +0.07890291j]\n",
      " [ -9.86267269e-01 -3.18216868j]\n",
      " [  3.38837385e+00 -1.76724531j]\n",
      " [ -6.55258507e+00 -5.75270285j]\n",
      " [ -2.27771447e+00 +4.71788047j]\n",
      " [ -1.60675788e+00 +2.46669926j]\n",
      " [  4.75671394e+00 +5.62058666j]\n",
      " [  1.35578034e+00 -4.70148313j]\n",
      " [ -4.18454781e+00 +1.35736411j]\n",
      " [  2.76866125e+00 +1.67024934j]\n",
      " [  1.71351061e+00 -4.41161646j]\n",
      " [ -9.40632769e-01 +0.86364853j]\n",
      " [  1.78130279e+00 +1.30879632j]\n",
      " [ -1.28191923e+00 +3.17454782j]\n",
      " [  3.20367770e+00 +4.62150141j]\n",
      " [ -2.98597659e+00 -1.56699648j]\n",
      " [ -4.85535428e-01 +0.44170893j]\n",
      " [ -4.27505627e-01 +1.03139686j]\n",
      " [  1.72153715e+00 -3.91247775j]]\n"
     ]
    },
    {
     "name": "stderr",
     "output_type": "stream",
     "text": [
      "C:\\Users\\user\\Anaconda3\\lib\\site-packages\\numpy\\core\\numeric.py:531: ComplexWarning: Casting complex values to real discards the imaginary part\n",
      "  return array(a, dtype, copy=False, order=order)\n"
     ]
    },
    {
     "name": "stdout",
     "output_type": "stream",
     "text": [
      "(64,)\n",
      "[[  2.24955454e+01+21.46826716j]\n",
      " [  1.59171565e+00 -0.68322518j]\n",
      " [  1.96445601e+00 -0.14666742j]\n",
      " [ -3.19821073e+00 +3.11300156j]\n",
      " [  8.52765661e-01 -4.49929943j]\n",
      " [ -4.04619727e-01 +2.07570836j]\n",
      " [ -7.36368207e+00 -1.89628367j]\n",
      " [  1.17483291e+00 +0.94400054j]\n",
      " [  2.28409218e+00 -0.84255611j]\n",
      " [  5.68474341e-01 -0.45468806j]\n",
      " [  1.00671239e-01 +2.76370117j]\n",
      " [  3.53531119e+00 +2.4405357j ]\n",
      " [  1.55237738e+00 -3.21176364j]\n",
      " [  3.38355451e-01 -4.1959507j ]\n",
      " [  1.62329027e+00 +1.64813015j]\n",
      " [  1.12473410e+00 +0.13097648j]\n",
      " [  2.20820926e+00 +4.27713759j]\n",
      " [ -5.22987854e+00 -4.3111944j ]\n",
      " [  5.15979526e-01 -1.7597951j ]\n",
      " [ -2.11357450e+00 +3.31534975j]\n",
      " [ -2.99440330e+00 +0.13958535j]\n",
      " [  3.36253544e+00 +3.83994672j]\n",
      " [ -2.90345472e+00 +3.89905293j]\n",
      " [  4.88272981e-01 +0.50020963j]\n",
      " [  1.54350573e+00 +1.80616428j]\n",
      " [ -5.07389592e-01 -0.08505188j]\n",
      " [ -1.69887003e-01 -1.72260252j]\n",
      " [  1.58631033e+00 -1.06651003j]\n",
      " [  1.46557586e-01 -1.24934396j]\n",
      " [  3.01180235e+00 +1.30654864j]\n",
      " [ -1.52514724e-01 -5.86808147j]\n",
      " [  2.09845925e-01 -1.03226436j]\n",
      " [  1.67399580e+00 +3.72153513j]\n",
      " [ -1.81132628e-01 -0.15883073j]\n",
      " [ -8.54115846e-01 +2.75311431j]\n",
      " [ -8.00898411e-02 -2.3198197j ]\n",
      " [ -8.54883569e-01 -2.32060808j]\n",
      " [ -3.85169836e+00 -4.70978593j]\n",
      " [  7.99928367e-01 -1.13373522j]\n",
      " [  2.41680353e-01 -0.26285506j]\n",
      " [ -7.26651143e-01 -1.59870629j]\n",
      " [  2.85794303e+00 -1.08905154j]\n",
      " [  1.59809526e+00 +1.93659221j]\n",
      " [  2.19397090e+00 -0.80226342j]\n",
      " [ -2.74332300e+00 +2.19929741j]\n",
      " [ -4.03293781e+00 -2.41783801j]\n",
      " [  1.26709449e+00 -0.87708332j]\n",
      " [  1.17753333e+00 +0.88427091j]\n",
      " [ -1.34050531e+00 +0.03961966j]\n",
      " [ -2.68463591e+00 -0.04914199j]\n",
      " [  1.58763412e+00 -3.23456707j]\n",
      " [  9.75094637e-01 +2.55464059j]\n",
      " [  6.40187072e-02 +1.52045016j]\n",
      " [  2.17907265e+00 +0.11205492j]\n",
      " [  1.75251306e-01 +0.24802711j]\n",
      " [ -2.18477422e+00 +3.53982681j]\n",
      " [ -3.20752047e+00 +2.19284474j]\n",
      " [ -5.29736511e-01 +2.65060343j]\n",
      " [ -2.37294608e+00 +3.07470072j]\n",
      " [ -1.15486535e+00 -2.86361564j]\n",
      " [ -1.97777374e+00 +0.8379331j ]\n",
      " [ -1.16695016e+00 +3.50595167j]\n",
      " [  2.39995677e-01 +1.22925111j]\n",
      " [  1.88448546e-02 +2.46046304j]]\n",
      "(64,)\n"
     ]
    },
    {
     "data": {
      "image/png": "[encoded data removed]",
      "text/plain": [
       "<matplotlib.figure.Figure at 0x28b872e5048>"
      ]
     },
     "metadata": {},
     "output_type": "display_data"
    }
   ],
   "source": [
    "# input sequence generator\n",
    "length=64\n",
    "real=np.random.rand(length)\n",
    "img=np.random.rand(length)\n",
    "x=real+1j*img\n",
    "x=np.matrix(x)\n",
    "x=np.transpose(x)\n",
    "color=['r','g','b']\n",
    "for i in range(0,3,1):\n",
    "    X=general_transform(i,x)\n",
    "    print(X)\n",
    "    err=mse(i,x,X,length)\n",
    "    print(err.shape)\n",
    "    plt.plot(np.arange(0,length,1),err,color[i])\n",
    "\n",
    "#y=general_inverse_transform(0,X)\n",
    "plt.show()\n"
   ]
  },
  {
   "cell_type": "code",
   "execution_count": null,
   "metadata": {
    "collapsed": true
   },
   "outputs": [],
   "source": []
  }
 ],
 "metadata": {
  "kernelspec": {
   "display_name": "Python 3",
   "language": "python",
   "name": "python3"
  },
  "language_info": {
   "codemirror_mode": {
    "name": "ipython",
    "version": 3
   },
   "file_extension": ".py",
   "mimetype": "text/x-python",
   "name": "python",
   "nbconvert_exporter": "python",
   "pygments_lexer": "ipython3",
   "version": "3.6.3"
  }
 },
 "nbformat": 4,
 "nbformat_minor": 2
}
