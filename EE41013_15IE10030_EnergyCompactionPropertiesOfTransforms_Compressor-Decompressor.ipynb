{
 "cells": [
  {
   "cell_type": "code",
   "execution_count": 1,
   "metadata": {
    "collapsed": true
   },
   "outputs": [],
   "source": [
    "import numpy as np\n",
    "from __future__ import division\n",
    "import matplotlib.pyplot as plt\n",
    "import sys\n",
    "import cmath\n",
    "import math\n",
    "from scipy.io import wavfile\n",
    "import scipy.fftpack\n",
    "import pywt"
   ]
  },
  {
   "cell_type": "code",
   "execution_count": 2,
   "metadata": {
    "collapsed": true
   },
   "outputs": [],
   "source": [
    "def  xdcthaar(X,L,N):\n",
    "    for i in range(N-L,N):\n",
    "        X[i]=0\n",
    "    return X    "
   ]
  },
  {
   "cell_type": "code",
   "execution_count": 3,
   "metadata": {
    "collapsed": true
   },
   "outputs": [],
   "source": [
    "def samples_from_wav():\n",
    "    rate,array=wavfile.read(\"couchplayin.wav\")\n",
    "    #print(rate)\n",
    "    result=array[0:rate]\n",
    "    return result    "
   ]
  },
  {
   "cell_type": "code",
   "execution_count": 4,
   "metadata": {
    "collapsed": true
   },
   "outputs": [],
   "source": [
    "def compressor(x,L,file_name):\n",
    "    N=x.shape[0]\n",
    "    b=32\n",
    "    M=N-L\n",
    "    X=scipy.fftpack.dct(x)\n",
    "    f=open(file_name,'w+')\n",
    "    f.write(\"%d\\n\" %N)\n",
    "    f.write(\"%d\\n\" %M)\n",
    "    for i in range(M):\n",
    "        f.write(\"%f\\n\" %X[i])\n",
    "    f.close()\n",
    "    Xm=xdcthaar(X,L,N)\n",
    "    xm=scipy.fftpack.idct(Xm,norm=\"ortho\")\n",
    "    print(xm)\n",
    "\n",
    "    "
   ]
  },
  {
   "cell_type": "code",
   "execution_count": 5,
   "metadata": {
    "collapsed": true
   },
   "outputs": [],
   "source": [
    "def decompressor(file_name):\n",
    "    f=open(file_name,\"r\")\n",
    "    contents=f.readlines()\n",
    "    N=int(contents[0].strip('\\n'))\n",
    "    M=int(contents[1].strip('\\n'))\n",
    "    contents=contents[2:]\n",
    "    array=[]\n",
    "    for i in contents:\n",
    "        array=np.append(array,float(i.strip('\\n')))\n",
    "    for i in range(M,N,1):\n",
    "        array=np.append(array,0)\n",
    "\n",
    "    #print(array.shape)    \n",
    "    xm=scipy.fftpack.idct(array,norm=\"ortho\")\n",
    "    print(xm)"
   ]
  },
  {
   "cell_type": "code",
   "execution_count": 6,
   "metadata": {},
   "outputs": [
    {
     "name": "stdout",
     "output_type": "stream",
     "text": [
      "[-238156.090133   -240232.13892738 -207569.49549882 ...,  549741.33362384\n",
      "  605284.04368338  660519.95352805]\n",
      "[-238156.09013331 -240232.13892724 -207569.49549854 ...,  549741.33362359\n",
      "  605284.04368348  660519.95352839]\n"
     ]
    }
   ],
   "source": [
    "#driver program\n",
    "L=200\n",
    "file_name=\"input.txt\"\n",
    "x=samples_from_wav()\n",
    "compressor(x,L,file_name)\n",
    "decompressor(file_name)"
   ]
  }
 ],
 "metadata": {
  "kernelspec": {
   "display_name": "Python 3",
   "language": "python",
   "name": "python3"
  },
  "language_info": {
   "codemirror_mode": {
    "name": "ipython",
    "version": 3
   },
   "file_extension": ".py",
   "mimetype": "text/x-python",
   "name": "python",
   "nbconvert_exporter": "python",
   "pygments_lexer": "ipython3",
   "version": "3.6.3"
  }
 },
 "nbformat": 4,
 "nbformat_minor": 2
}
